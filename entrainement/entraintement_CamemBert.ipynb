{
 "cells": [
  {
   "cell_type": "code",
   "execution_count": 1,
   "metadata": {},
   "outputs": [],
   "source": [
    "import torch\n",
    "from transformers import CamembertForSequenceClassification, CamembertTokenizer, Trainer, TrainingArguments, EarlyStoppingCallback\n",
    "from sklearn.model_selection import train_test_split\n",
    "import pandas as pd\n",
    "from sklearn.metrics import accuracy_score, classification_report, confusion_matrix\n",
    "from datasets import Dataset\n",
    "import numpy as np"
   ]
  },
  {
   "cell_type": "code",
   "execution_count": 2,
   "metadata": {},
   "outputs": [],
   "source": [
    "df = pd.read_csv('email_complet.csv')"
   ]
  },
  {
   "cell_type": "code",
   "execution_count": 3,
   "metadata": {},
   "outputs": [],
   "source": [
    "train_df, val_df = train_test_split(df, test_size=0.2, random_state=42)"
   ]
  },
  {
   "cell_type": "code",
   "execution_count": 4,
   "metadata": {},
   "outputs": [
    {
     "name": "stdout",
     "output_type": "stream",
     "text": [
      "Taille du DataFrame original : 300000\n",
      "Taille de l'ensemble d'entraînement : 240000\n",
      "Taille de l'ensemble de validation : 60000\n"
     ]
    }
   ],
   "source": [
    "print(f\"Taille du DataFrame original : {df.shape[0]}\")\n",
    "print(f\"Taille de l'ensemble d'entraînement : {train_df.shape[0]}\")\n",
    "print(f\"Taille de l'ensemble de validation : {val_df.shape[0]}\")"
   ]
  },
  {
   "cell_type": "code",
   "execution_count": 5,
   "metadata": {},
   "outputs": [],
   "source": [
    "train_dataset = Dataset.from_pandas(train_df)\n",
    "val_dataset = Dataset.from_pandas(val_df)"
   ]
  },
  {
   "cell_type": "code",
   "execution_count": 6,
   "metadata": {},
   "outputs": [
    {
     "data": {
      "application/vnd.jupyter.widget-view+json": {
       "model_id": "dff178501dd641b69228cc652ad53d98",
       "version_major": 2,
       "version_minor": 0
      },
      "text/plain": [
       "tokenizer_config.json:   0%|          | 0.00/25.0 [00:00<?, ?B/s]"
      ]
     },
     "metadata": {},
     "output_type": "display_data"
    },
    {
     "data": {
      "application/vnd.jupyter.widget-view+json": {
       "model_id": "dfc1c2d291334e8fb74bbf637e70d59d",
       "version_major": 2,
       "version_minor": 0
      },
      "text/plain": [
       "sentencepiece.bpe.model:   0%|          | 0.00/811k [00:00<?, ?B/s]"
      ]
     },
     "metadata": {},
     "output_type": "display_data"
    },
    {
     "data": {
      "application/vnd.jupyter.widget-view+json": {
       "model_id": "1319dd82db8749f8ab76c6d3c213e317",
       "version_major": 2,
       "version_minor": 0
      },
      "text/plain": [
       "tokenizer.json:   0%|          | 0.00/1.40M [00:00<?, ?B/s]"
      ]
     },
     "metadata": {},
     "output_type": "display_data"
    },
    {
     "data": {
      "application/vnd.jupyter.widget-view+json": {
       "model_id": "8761164fbdef4a9f95f2ad30a17da3c7",
       "version_major": 2,
       "version_minor": 0
      },
      "text/plain": [
       "config.json:   0%|          | 0.00/508 [00:00<?, ?B/s]"
      ]
     },
     "metadata": {},
     "output_type": "display_data"
    },
    {
     "data": {
      "application/vnd.jupyter.widget-view+json": {
       "model_id": "a72dd908baa042b988a3021becfc593e",
       "version_major": 2,
       "version_minor": 0
      },
      "text/plain": [
       "model.safetensors:   0%|          | 0.00/445M [00:00<?, ?B/s]"
      ]
     },
     "metadata": {},
     "output_type": "display_data"
    },
    {
     "name": "stderr",
     "output_type": "stream",
     "text": [
      "Some weights of CamembertForSequenceClassification were not initialized from the model checkpoint at camembert-base and are newly initialized: ['classifier.dense.bias', 'classifier.dense.weight', 'classifier.out_proj.bias', 'classifier.out_proj.weight']\n",
      "You should probably TRAIN this model on a down-stream task to be able to use it for predictions and inference.\n"
     ]
    }
   ],
   "source": [
    "model_name = \"camembert-base\"\n",
    "tokenizer = CamembertTokenizer.from_pretrained(model_name)\n",
    "model = CamembertForSequenceClassification.from_pretrained(model_name, num_labels=2, hidden_dropout_prob = 0.3)\n"
   ]
  },
  {
   "cell_type": "code",
   "execution_count": 7,
   "metadata": {},
   "outputs": [],
   "source": [
    "def tokenize_function(examples):\n",
    "    # Tokeniser l'email\n",
    "    email_encoding = tokenizer(examples['email'], padding=\"max_length\", truncation=True, max_length=64)\n",
    "    \n",
    "    # Inclure les autres colonnes comme des features supplémentaires\n",
    "    other_features = {\n",
    "        \"has_nom\": examples[\"has_nom\"],\n",
    "        \"has_prenom\": examples[\"has_prenom\"],\n",
    "        \"has_surnom\": examples[\"has_surnom\"],\n",
    "        \"has_nom_entreprise\": examples[\"has_nom_entreprise\"],\n",
    "        \"has_mot_generique\": examples[\"has_mot_generique\"],\n",
    "        \"has_number\": examples[\"has_number\"],\n",
    "    }\n",
    "    \n",
    "    # Fusionner les informations supplémentaires dans l'encoding de l'email\n",
    "    return {**email_encoding, **other_features}"
   ]
  },
  {
   "cell_type": "code",
   "execution_count": 8,
   "metadata": {},
   "outputs": [
    {
     "data": {
      "application/vnd.jupyter.widget-view+json": {
       "model_id": "9e3092e2bf864483ad2d70c532adc46d",
       "version_major": 2,
       "version_minor": 0
      },
      "text/plain": [
       "Map:   0%|          | 0/240000 [00:00<?, ? examples/s]"
      ]
     },
     "metadata": {},
     "output_type": "display_data"
    },
    {
     "data": {
      "application/vnd.jupyter.widget-view+json": {
       "model_id": "99c24d99e10b49858bc0741fdd854bc3",
       "version_major": 2,
       "version_minor": 0
      },
      "text/plain": [
       "Map:   0%|          | 0/60000 [00:00<?, ? examples/s]"
      ]
     },
     "metadata": {},
     "output_type": "display_data"
    }
   ],
   "source": [
    "train_dataset = train_dataset.map(tokenize_function, batched=True)\n",
    "val_dataset = val_dataset.map(tokenize_function, batched=True)"
   ]
  },
  {
   "cell_type": "code",
   "execution_count": 9,
   "metadata": {},
   "outputs": [
    {
     "name": "stderr",
     "output_type": "stream",
     "text": [
      "/home/soubika/dev/tests/.venv/lib/python3.12/site-packages/transformers/training_args.py:1559: FutureWarning: `evaluation_strategy` is deprecated and will be removed in version 4.46 of 🤗 Transformers. Use `eval_strategy` instead\n",
      "  warnings.warn(\n"
     ]
    }
   ],
   "source": [
    "training_args = TrainingArguments(\n",
    "    output_dir='./results',          \n",
    "    evaluation_strategy=\"epoch\",   \n",
    "    learning_rate=2e-5,               \n",
    "    per_device_train_batch_size=64,  \n",
    "    per_device_eval_batch_size=64,   \n",
    "    num_train_epochs=10,              \n",
    "    weight_decay=0.01,                \n",
    "    save_strategy=\"epoch\",            \n",
    "    logging_dir='./logs',            \n",
    "    logging_steps=10,\n",
    "    logging_strategy=\"epoch\",\n",
    "    load_best_model_at_end=True,\n",
    "    metric_for_best_model=\"eval_loss\",\n",
    "    greater_is_better=False,\n",
    ")"
   ]
  },
  {
   "cell_type": "code",
   "execution_count": 10,
   "metadata": {},
   "outputs": [],
   "source": [
    "early_stopping_callback = EarlyStoppingCallback(early_stopping_patience=3)"
   ]
  },
  {
   "cell_type": "code",
   "execution_count": 11,
   "metadata": {},
   "outputs": [],
   "source": [
    "log_df = pd.DataFrame(columns=['epoch', 'train_loss', 'eval_loss', 'accuracy'])\n",
    "\n",
    "def save_metrics(epoch, train_loss, eval_loss, accuracy):\n",
    "    global log_df\n",
    "    log_df = log_df.append({'epoch': epoch, 'train_loss': train_loss, 'eval_loss': eval_loss, 'accuracy': accuracy}, ignore_index=True)\n",
    "    log_df.to_csv('./metrics_log.csv', index=False)\n",
    "\n",
    "\n",
    "def compute_metrics(p):\n",
    "    predictions, labels = p\n",
    "    preds = predictions.argmax(axis=1)\n",
    "    acc = accuracy_score(labels, preds)\n",
    "    report = classification_report(labels, preds, output_dict=True)\n",
    "    return {\"accuracy\": acc, \"classification_report\": report}"
   ]
  },
  {
   "cell_type": "code",
   "execution_count": 12,
   "metadata": {},
   "outputs": [
    {
     "name": "stderr",
     "output_type": "stream",
     "text": [
      "/tmp/ipykernel_81010/3568557624.py:1: FutureWarning: `tokenizer` is deprecated and will be removed in version 5.0.0 for `Trainer.__init__`. Use `processing_class` instead.\n",
      "  trainer = Trainer(\n"
     ]
    }
   ],
   "source": [
    "trainer = Trainer(\n",
    "    model=model,                         \n",
    "    args=training_args,                  \n",
    "    train_dataset=train_dataset,         \n",
    "    eval_dataset=val_dataset,             \n",
    "    compute_metrics=compute_metrics,\n",
    "    tokenizer = tokenizer,\n",
    "    callbacks=[early_stopping_callback]       \n",
    ")"
   ]
  },
  {
   "cell_type": "code",
   "execution_count": 13,
   "metadata": {},
   "outputs": [
    {
     "data": {
      "text/html": [
       "\n",
       "    <div>\n",
       "      \n",
       "      <progress value='37500' max='37500' style='width:300px; height:20px; vertical-align: middle;'></progress>\n",
       "      [37500/37500 64:22:34, Epoch 10/10]\n",
       "    </div>\n",
       "    <table border=\"1\" class=\"dataframe\">\n",
       "  <thead>\n",
       " <tr style=\"text-align: left;\">\n",
       "      <th>Epoch</th>\n",
       "      <th>Training Loss</th>\n",
       "      <th>Validation Loss</th>\n",
       "      <th>Accuracy</th>\n",
       "      <th>Classification Report</th>\n",
       "    </tr>\n",
       "  </thead>\n",
       "  <tbody>\n",
       "    <tr>\n",
       "      <td>1</td>\n",
       "      <td>0.160500</td>\n",
       "      <td>0.069965</td>\n",
       "      <td>0.980617</td>\n",
       "      <td>{'0': {'precision': 0.9747363579618253, 'recall': 0.9868946248004258, 'f1-score': 0.9807778126704461, 'support': 30064.0}, '1': {'precision': 0.9866716281587227, 'recall': 0.974311865312667, 'f1-score': 0.980452795939291, 'support': 29936.0}, 'accuracy': 0.9806166666666667, 'macro avg': {'precision': 0.980703993060274, 'recall': 0.9806032450565464, 'f1-score': 0.9806153043048685, 'support': 60000.0}, 'weighted avg': {'precision': 0.9806912621053974, 'recall': 0.9806166666666667, 'f1-score': 0.9806156509893817, 'support': 60000.0}}</td>\n",
       "    </tr>\n",
       "    <tr>\n",
       "      <td>2</td>\n",
       "      <td>0.068100</td>\n",
       "      <td>0.049692</td>\n",
       "      <td>0.985667</td>\n",
       "      <td>{'0': {'precision': 0.984022805621851, 'recall': 0.9874268227780735, 'f1-score': 0.9857218754150617, 'support': 30064.0}, '1': {'precision': 0.9873290426387772, 'recall': 0.9838989845002672, 'f1-score': 0.985611029313345, 'support': 29936.0}, 'accuracy': 0.9856666666666667, 'macro avg': {'precision': 0.9856759241303141, 'recall': 0.9856629036391704, 'f1-score': 0.9856664523642034, 'support': 60000.0}, 'weighted avg': {'precision': 0.985672397477496, 'recall': 0.9856666666666667, 'f1-score': 0.985666570600045, 'support': 60000.0}}</td>\n",
       "    </tr>\n",
       "    <tr>\n",
       "      <td>3</td>\n",
       "      <td>0.051300</td>\n",
       "      <td>0.044230</td>\n",
       "      <td>0.987583</td>\n",
       "      <td>{'0': {'precision': 0.9866224066390041, 'recall': 0.9886242682277807, 'f1-score': 0.9876223230158334, 'support': 30064.0}, '1': {'precision': 0.9885523012552301, 'recall': 0.9865379476215927, 'f1-score': 0.9875440972396382, 'support': 29936.0}, 'accuracy': 0.9875833333333334, 'macro avg': {'precision': 0.9875873539471172, 'recall': 0.9875811079246868, 'f1-score': 0.9875832101277358, 'support': 60000.0}, 'weighted avg': {'precision': 0.9875852953928598, 'recall': 0.9875833333333334, 'f1-score': 0.9875832935685638, 'support': 60000.0}}</td>\n",
       "    </tr>\n",
       "    <tr>\n",
       "      <td>4</td>\n",
       "      <td>0.043900</td>\n",
       "      <td>0.038486</td>\n",
       "      <td>0.988367</td>\n",
       "      <td>{'0': {'precision': 0.9876453005645964, 'recall': 0.9891564662054284, 'f1-score': 0.9884003057799049, 'support': 30064.0}, '1': {'precision': 0.9890933422549347, 'recall': 0.9875734901122395, 'f1-score': 0.9883328318791161, 'support': 29936.0}, 'accuracy': 0.9883666666666666, 'macro avg': {'precision': 0.9883693214097655, 'recall': 0.988364978158834, 'f1-score': 0.9883665688295105, 'support': 60000.0}, 'weighted avg': {'precision': 0.9883677768319625, 'recall': 0.9883666666666666, 'f1-score': 0.9883666408016714, 'support': 60000.0}}</td>\n",
       "    </tr>\n",
       "    <tr>\n",
       "      <td>5</td>\n",
       "      <td>0.039400</td>\n",
       "      <td>0.035553</td>\n",
       "      <td>0.988583</td>\n",
       "      <td>{'0': {'precision': 0.987133145415354, 'recall': 0.9901210750399149, 'f1-score': 0.9886248526212658, 'support': 30064.0}, '1': {'precision': 0.9900485843524879, 'recall': 0.9870390165686799, 'f1-score': 0.9885415098442649, 'support': 29936.0}, 'accuracy': 0.9885833333333334, 'macro avg': {'precision': 0.988590864883921, 'recall': 0.9885800458042974, 'f1-score': 0.9885831812327653, 'support': 60000.0}, 'weighted avg': {'precision': 0.988587755082388, 'recall': 0.9885833333333334, 'f1-score': 0.9885832701317275, 'support': 60000.0}}</td>\n",
       "    </tr>\n",
       "    <tr>\n",
       "      <td>6</td>\n",
       "      <td>0.036500</td>\n",
       "      <td>0.037621</td>\n",
       "      <td>0.988833</td>\n",
       "      <td>{'0': {'precision': 0.9867845786963434, 'recall': 0.9909858967535924, 'f1-score': 0.9888807753584705, 'support': 30064.0}, '1': {'precision': 0.9909084809447128, 'recall': 0.9866715660074826, 'f1-score': 0.9887854847348688, 'support': 29936.0}, 'accuracy': 0.9888333333333333, 'macro avg': {'precision': 0.9888465298205281, 'recall': 0.9888287313805375, 'f1-score': 0.9888331300466697, 'support': 60000.0}, 'weighted avg': {'precision': 0.9888421309914631, 'recall': 0.9888333333333333, 'f1-score': 0.9888332316900014, 'support': 60000.0}}</td>\n",
       "    </tr>\n",
       "    <tr>\n",
       "      <td>7</td>\n",
       "      <td>0.033600</td>\n",
       "      <td>0.035491</td>\n",
       "      <td>0.989017</td>\n",
       "      <td>{'0': {'precision': 0.9878554600657, 'recall': 0.9902541245343268, 'f1-score': 0.9890533379844189, 'support': 30064.0}, '1': {'precision': 0.9901885276094163, 'recall': 0.9877739176910743, 'f1-score': 0.9889797488252312, 'support': 29936.0}, 'accuracy': 0.9890166666666667, 'macro avg': {'precision': 0.9890219938375582, 'recall': 0.9890140211127005, 'f1-score': 0.989016543404825, 'support': 60000.0}, 'weighted avg': {'precision': 0.9890195052321782, 'recall': 0.9890166666666667, 'f1-score': 0.9890166218999282, 'support': 60000.0}}</td>\n",
       "    </tr>\n",
       "    <tr>\n",
       "      <td>8</td>\n",
       "      <td>0.032400</td>\n",
       "      <td>0.033866</td>\n",
       "      <td>0.989200</td>\n",
       "      <td>{'0': {'precision': 0.9884755895051478, 'recall': 0.9899880255455029, 'f1-score': 0.9892312294346396, 'support': 30064.0}, '1': {'precision': 0.9899297423887587, 'recall': 0.9884086050240513, 'f1-score': 0.9891685889078328, 'support': 29936.0}, 'accuracy': 0.9892, 'macro avg': {'precision': 0.9892026659469533, 'recall': 0.9891983152847771, 'f1-score': 0.9891999091712362, 'support': 60000.0}, 'weighted avg': {'precision': 0.9892011148505442, 'recall': 0.9892, 'f1-score': 0.9891999759877981, 'support': 60000.0}}</td>\n",
       "    </tr>\n",
       "    <tr>\n",
       "      <td>9</td>\n",
       "      <td>0.031600</td>\n",
       "      <td>0.034142</td>\n",
       "      <td>0.989033</td>\n",
       "      <td>{'0': {'precision': 0.9882122459822021, 'recall': 0.989921500798297, 'f1-score': 0.9890661349285477, 'support': 30064.0}, '1': {'precision': 0.9898607950742873, 'recall': 0.9881413682522715, 'f1-score': 0.9890003343363424, 'support': 29936.0}, 'accuracy': 0.9890333333333333, 'macro avg': {'precision': 0.9890365205282448, 'recall': 0.9890314345252842, 'f1-score': 0.9890332346324451, 'support': 60000.0}, 'weighted avg': {'precision': 0.9890347620758798, 'recall': 0.9890333333333333, 'f1-score': 0.9890333048197434, 'support': 60000.0}}</td>\n",
       "    </tr>\n",
       "    <tr>\n",
       "      <td>10</td>\n",
       "      <td>0.030300</td>\n",
       "      <td>0.033475</td>\n",
       "      <td>0.989183</td>\n",
       "      <td>{'0': {'precision': 0.9883778847750291, 'recall': 0.9900545502927088, 'f1-score': 0.9892155070705728, 'support': 30064.0}, '1': {'precision': 0.9899949807595784, 'recall': 0.9883083912346339, 'f1-score': 0.9891509670517042, 'support': 29936.0}, 'accuracy': 0.9891833333333333, 'macro avg': {'precision': 0.9891864327673037, 'recall': 0.9891814707636714, 'f1-score': 0.9891832370611385, 'support': 60000.0}, 'weighted avg': {'precision': 0.9891847078649202, 'recall': 0.9891833333333333, 'f1-score': 0.9891833059038254, 'support': 60000.0}}</td>\n",
       "    </tr>\n",
       "  </tbody>\n",
       "</table><p>"
      ],
      "text/plain": [
       "<IPython.core.display.HTML object>"
      ]
     },
     "metadata": {},
     "output_type": "display_data"
    }
   ],
   "source": [
    "train_results = trainer.train()"
   ]
  },
  {
   "cell_type": "code",
   "execution_count": 14,
   "metadata": {},
   "outputs": [
    {
     "name": "stderr",
     "output_type": "stream",
     "text": [
      "/home/soubika/dev/tests/.venv/lib/python3.12/site-packages/transformers/trainer.py:3347: FutureWarning: You are using `torch.load` with `weights_only=False` (the current default value), which uses the default pickle module implicitly. It is possible to construct malicious pickle data which will execute arbitrary code during unpickling (See https://github.com/pytorch/pytorch/blob/main/SECURITY.md#untrusted-models for more details). In a future release, the default value for `weights_only` will be flipped to `True`. This limits the functions that could be executed during unpickling. Arbitrary objects will no longer be allowed to be loaded via this mode unless they are explicitly allowlisted by the user via `torch.serialization.add_safe_globals`. We recommend you start setting `weights_only=True` for any use case where you don't have full control of the loaded file. Please open an issue on GitHub for any issues related to this experimental feature.\n",
      "  torch.load(os.path.join(checkpoint, OPTIMIZER_NAME), map_location=map_location)\n"
     ]
    },
    {
     "data": {
      "text/html": [
       "\n",
       "    <div>\n",
       "      \n",
       "      <progress value='37500' max='37500' style='width:300px; height:20px; vertical-align: middle;'></progress>\n",
       "      [37500/37500 : < :, Epoch 10/10]\n",
       "    </div>\n",
       "    <table border=\"1\" class=\"dataframe\">\n",
       "  <thead>\n",
       " <tr style=\"text-align: left;\">\n",
       "      <th>Epoch</th>\n",
       "      <th>Training Loss</th>\n",
       "      <th>Validation Loss</th>\n",
       "    </tr>\n",
       "  </thead>\n",
       "  <tbody>\n",
       "  </tbody>\n",
       "</table><p>"
      ],
      "text/plain": [
       "<IPython.core.display.HTML object>"
      ]
     },
     "metadata": {},
     "output_type": "display_data"
    }
   ],
   "source": [
    "train_results = trainer.train(resume_from_checkpoint=True)"
   ]
  },
  {
   "cell_type": "code",
   "execution_count": 15,
   "metadata": {},
   "outputs": [],
   "source": [
    "trainer.save_model('./best_model')"
   ]
  },
  {
   "cell_type": "code",
   "execution_count": 16,
   "metadata": {},
   "outputs": [],
   "source": [
    "trainer.evaluate()"
   ]
  },
  {
   "cell_type": "code",
   "execution_count": 17,
   "metadata": {},
   "outputs": [],
   "source": [
    "train_metrics = train_results.metrics\n",
    "df_train_metrics = pd.DataFrame.from_dict(train_metrics, orient=\"index\")\n",
    "df_train_metrics.to_csv('training_metrics.csv', mode='a', header=False)"
   ]
  },
  {
   "cell_type": "code",
   "execution_count": 18,
   "metadata": {},
   "outputs": [],
   "source": [
    "test_df = pd.read_csv('dataframe_correction.csv')"
   ]
  },
  {
   "cell_type": "code",
   "execution_count": 19,
   "metadata": {},
   "outputs": [],
   "source": [
    "def tokenize_function_test(exemples):\n",
    "    email_encoding = tokenizer(exemples['email'], padding=\"max_length\", truncation=True, max_length=64)\n",
    "    return email_encoding"
   ]
  },
  {
   "cell_type": "code",
   "execution_count": 20,
   "metadata": {},
   "outputs": [
    {
     "data": {
      "application/vnd.jupyter.widget-view+json": {
       "model_id": "3d817633afed41e380cf0c0590371605",
       "version_major": 2,
       "version_minor": 0
      },
      "text/plain": [
       "Map:   0%|          | 0/18749 [00:00<?, ? examples/s]"
      ]
     },
     "metadata": {},
     "output_type": "display_data"
    }
   ],
   "source": [
    "test_dataset = Dataset.from_pandas(test_df)\n",
    "test_dataset = test_dataset.map(tokenize_function_test, batched=True)"
   ]
  },
  {
   "cell_type": "code",
   "execution_count": 21,
   "metadata": {},
   "outputs": [
    {
     "data": {
      "text/html": [],
      "text/plain": [
       "<IPython.core.display.HTML object>"
      ]
     },
     "metadata": {},
     "output_type": "display_data"
    }
   ],
   "source": [
    "predictions = trainer.predict(test_dataset)\n",
    "preds = np.argmax(predictions.predictions, axis=1)\n",
    "labels = predictions.label_ids"
   ]
  },
  {
   "cell_type": "code",
   "execution_count": 22,
   "metadata": {},
   "outputs": [
    {
     "data": {
      "text/plain": [
       "{'0': {'precision': 0.6385893980233602,\n",
       "  'recall': 0.4535013558781305,\n",
       "  'f1-score': 0.5303609737897584,\n",
       "  'support': 6269.0},\n",
       " '1': {'precision': 0.7603693082464853,\n",
       "  'recall': 0.8710737179487179,\n",
       "  'f1-score': 0.811965492773649,\n",
       "  'support': 12480.0},\n",
       " 'accuracy': 0.73145234412502,\n",
       " 'macro avg': {'precision': 0.6994793531349228,\n",
       "  'recall': 0.6622875369134242,\n",
       "  'f1-score': 0.6711632332817037,\n",
       "  'support': 18749.0},\n",
       " 'weighted avg': {'precision': 0.7196504295228856,\n",
       "  'recall': 0.73145234412502,\n",
       "  'f1-score': 0.7178069387435669,\n",
       "  'support': 18749.0}}"
      ]
     },
     "execution_count": 22,
     "metadata": {},
     "output_type": "execute_result"
    }
   ],
   "source": [
    "conf_matrix = confusion_matrix(labels, preds)\n",
    "class_report = classification_report(labels, preds, output_dict=True)\n",
    "class_report"
   ]
  },
  {
   "cell_type": "code",
   "execution_count": 23,
   "metadata": {},
   "outputs": [],
   "source": [
    "conf_matrix_df = pd.DataFrame(conf_matrix, index=[\"0\", \"1\"], columns=[\"0\", \"1\"])\n",
    "conf_matrix_df.to_csv('confusion_matrix.csv', index=True)"
   ]
  },
  {
   "cell_type": "code",
   "execution_count": 24,
   "metadata": {},
   "outputs": [],
   "source": [
    "import matplotlib.pyplot as plt"
   ]
  },
  {
   "cell_type": "code",
   "execution_count": 25,
   "metadata": {},
   "outputs": [
    {
     "name": "stdout",
     "output_type": "stream",
     "text": [
      "\n",
      "Matrice de confusion :\n",
      "\n"
     ]
    },
    {
     "data": {
      "image/png": "[encoded data removed]",
      "text/plain": [
       "<Figure size 800x600 with 2 Axes>"
      ]
     },
     "metadata": {},
     "output_type": "display_data"
    }
   ],
   "source": [
    "print(\"\\nMatrice de confusion :\\n\")\n",
    "\n",
    "\n",
    "plt.figure(figsize=(8, 6))\n",
    "plt.imshow(conf_matrix, cmap='Blues')\n",
    "plt.title(\"Matrice de Confusion\")\n",
    "plt.xlabel(\"Prédictions\")\n",
    "plt.ylabel(\"Vraies étiquettes\")\n",
    "plt.xticks([0, 1], [\"Générique\", \"Personnel\"])\n",
    "plt.yticks([0, 1], [\"Générique\", \"Personnel\"])\n",
    "plt.colorbar()\n",
    "\n",
    "for i in range(2):\n",
    "    for j in range(2):\n",
    "        plt.text(j, i, conf_matrix[i, j], ha='center', va='center', color='black')\n",
    "\n",
    "plt.savefig(\"matrice_de_confusion.png\", format=\"png\", dpi=300)\n",
    "plt.show()"
   ]
  },
  {
   "cell_type": "code",
   "execution_count": 26,
   "metadata": {},
   "outputs": [],
   "source": [
    "test_df['predicted_label'] = preds\n",
    "incorrect_predictions = test_df[test_df['predicted_label'] != test_df['label']]\n",
    "incorrect_predictions.to_csv('incorrect_predictions.csv', index=False)"
   ]
  }
 ],
 "metadata": {
  "kernelspec": {
   "display_name": ".venv",
   "language": "python",
   "name": "python3"
  },
  "language_info": {
   "codemirror_mode": {
    "name": "ipython",
    "version": 3
   },
   "file_extension": ".py",
   "mimetype": "text/x-python",
   "name": "python",
   "nbconvert_exporter": "python",
   "pygments_lexer": "ipython3",
   "version": "3.12.3"
  }
 },
 "nbformat": 4,
 "nbformat_minor": 2
}
